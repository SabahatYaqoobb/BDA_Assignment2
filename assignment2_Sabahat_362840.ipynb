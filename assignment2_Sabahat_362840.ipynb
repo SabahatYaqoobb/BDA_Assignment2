{
  "metadata": {
    "kernelspec": {
      "language": "python",
      "display_name": "Python 3",
      "name": "python3"
    },
    "language_info": {
      "name": "python",
      "version": "3.7.12",
      "mimetype": "text/x-python",
      "codemirror_mode": {
        "name": "ipython",
        "version": 3
      },
      "pygments_lexer": "ipython3",
      "nbconvert_exporter": "python",
      "file_extension": ".py"
    },
    "colab": {
      "provenance": []
    }
  },
  "nbformat_minor": 0,
  "nbformat": 4,
  "cells": [
    {
      "cell_type": "markdown",
      "source": [
        "# <font color='tomato'>PySpark Assignment</font>\n",
        "\n",
        "1.   There are outputs given for some cells, you are suppose to obtain the exact output with code.\n",
        "2.  Don't forget to write your name and reg# in the file name above.\n",
        "\n",
        "\n"
      ],
      "metadata": {
        "id": "sSa5GGO82YPh"
      }
    },
    {
      "cell_type": "code",
      "source": [
        "from google.colab import drive\n",
        "drive.mount('/content/drive')\n",
        "!pip install pyspark"
      ],
      "metadata": {
        "_uuid": "8f2839f25d086af736a60e9eeb907d3b93b6e0e5",
        "_cell_guid": "b1076dfc-b9ad-4769-8c92-a6c4dae69d19",
        "execution": {
          "iopub.status.busy": "2021-12-24T19:51:35.229877Z",
          "iopub.execute_input": "2021-12-24T19:51:35.230777Z",
          "iopub.status.idle": "2021-12-24T19:51:43.814692Z",
          "shell.execute_reply.started": "2021-12-24T19:51:35.230733Z",
          "shell.execute_reply": "2021-12-24T19:51:43.813699Z"
        },
        "trusted": true,
        "id": "NX2ITjsk2YPj",
        "colab": {
          "base_uri": "https://localhost:8080/"
        },
        "outputId": "99b734c0-dceb-4dea-d766-933029f172a8"
      },
      "execution_count": 5,
      "outputs": [
        {
          "output_type": "stream",
          "name": "stdout",
          "text": [
            "Drive already mounted at /content/drive; to attempt to forcibly remount, call drive.mount(\"/content/drive\", force_remount=True).\n",
            "Looking in indexes: https://pypi.org/simple, https://us-python.pkg.dev/colab-wheels/public/simple/\n",
            "Requirement already satisfied: pyspark in /usr/local/lib/python3.8/dist-packages (3.3.1)\n",
            "Requirement already satisfied: py4j==0.10.9.5 in /usr/local/lib/python3.8/dist-packages (from pyspark) (0.10.9.5)\n"
          ]
        }
      ]
    },
    {
      "cell_type": "code",
      "source": [
        "#Required Libraries\n",
        "from pyspark.sql import SparkSession\n",
        "from pyspark.sql.functions import col,isnan, when, count\n",
        "from pyspark.sql.types import *\n",
        "from pyspark.sql.functions import regexp_replace\n",
        "from pyspark.sql.functions import split\n",
        "import numpy as np\n",
        "import matplotlib.pyplot as plt"
      ],
      "metadata": {
        "id": "y_UXM308AbdQ"
      },
      "execution_count": 6,
      "outputs": []
    },
    {
      "cell_type": "code",
      "source": [
        "spark = SparkSession.builder.master(\"local[*]\").appName('PySpark_Assignment').getOrCreate()"
      ],
      "metadata": {
        "_kg_hide-output": false,
        "execution": {
          "iopub.status.busy": "2021-12-24T19:51:43.828607Z",
          "iopub.execute_input": "2021-12-24T19:51:43.828939Z",
          "iopub.status.idle": "2021-12-24T19:51:43.994747Z",
          "shell.execute_reply.started": "2021-12-24T19:51:43.828891Z",
          "shell.execute_reply": "2021-12-24T19:51:43.993828Z"
        },
        "trusted": true,
        "id": "kvdWnnMM2YPq"
      },
      "execution_count": 7,
      "outputs": []
    },
    {
      "cell_type": "code",
      "source": [
        "data_schema = [\n",
        "               StructField('mpg', DoubleType(), True),\n",
        "               StructField('cylinders', IntegerType(), True),\n",
        "               StructField('displacement', DoubleType(), True),\n",
        "               StructField('horsepower', DoubleType(), True),\n",
        "               StructField('weight', IntegerType(), True),\n",
        "               StructField('acceleration', DoubleType(), True),\n",
        "               StructField('model year', IntegerType(), True),\n",
        "               StructField('origin', StringType(), True),\n",
        "               StructField('car name', StringType(), True),\n",
        "            ]\n",
        "\n",
        "final_struc = StructType(fields = data_schema)\n",
        "\n",
        "df = spark.read.csv('/content/drive/MyDrive/car_data.csv',sep = ',',header = True,schema = final_struc )\n",
        "\n",
        "df.show(10)"
      ],
      "metadata": {
        "execution": {
          "iopub.status.busy": "2021-12-24T19:51:43.996987Z",
          "iopub.execute_input": "2021-12-24T19:51:43.997313Z",
          "iopub.status.idle": "2021-12-24T19:51:44.320681Z",
          "shell.execute_reply.started": "2021-12-24T19:51:43.997270Z",
          "shell.execute_reply": "2021-12-24T19:51:44.319095Z"
        },
        "trusted": true,
        "id": "AsWKw0V82YPs",
        "colab": {
          "base_uri": "https://localhost:8080/"
        },
        "outputId": "6dcb173a-017c-4941-bf73-50b3a6112631"
      },
      "execution_count": 8,
      "outputs": [
        {
          "output_type": "stream",
          "name": "stdout",
          "text": [
            "+----+---------+------------+----------+------+------------+----------+------+--------------------+\n",
            "| mpg|cylinders|displacement|horsepower|weight|acceleration|model year|origin|            car name|\n",
            "+----+---------+------------+----------+------+------------+----------+------+--------------------+\n",
            "|18.0|        8|       307.0|     130.0|  3504|        12.0|        70|     1|chevrolet chevell...|\n",
            "|15.0|        8|       350.0|     165.0|  3693|        11.5|        70|     1|   buick skylark 320|\n",
            "|18.0|        8|       318.0|     150.0|  3436|        11.0|        70|     1|  plymouth satellite|\n",
            "|16.0|        8|       304.0|     150.0|  3433|        12.0|        70|     1|       amc rebel sst|\n",
            "|17.0|        8|       302.0|     140.0|  3449|        10.5|        70|     1|         ford torino|\n",
            "|15.0|        8|       429.0|     198.0|  4341|        10.0|        70|     1|    ford galaxie 500|\n",
            "|14.0|        8|       454.0|     220.0|  4354|         9.0|        70|     1|    chevrolet impala|\n",
            "|14.0|        8|       440.0|     215.0|  4312|         8.5|        70|     1|   plymouth fury iii|\n",
            "|14.0|        8|       455.0|     225.0|  4425|        10.0|        70|     1|    pontiac catalina|\n",
            "|15.0|        8|       390.0|     190.0|  3850|         8.5|        70|     1|  amc ambassador dpl|\n",
            "+----+---------+------------+----------+------+------------+----------+------+--------------------+\n",
            "only showing top 10 rows\n",
            "\n"
          ]
        }
      ]
    },
    {
      "cell_type": "code",
      "source": [
        "Null_count = df.select([count(when(col(c).contains('None') | col(c).contains('NULL') | (col(c) == '' ) | col(c).isNull() | isnan(c), c )).alias(c) for c in df.columns])\n",
        "\n",
        "Null_count.show()"
      ],
      "metadata": {
        "colab": {
          "base_uri": "https://localhost:8080/"
        },
        "id": "Mr-ySIsXYLwi",
        "outputId": "20351dc8-8898-4f73-dacd-07a30ec0facf"
      },
      "execution_count": 9,
      "outputs": [
        {
          "output_type": "stream",
          "name": "stdout",
          "text": [
            "+---+---------+------------+----------+------+------------+----------+------+--------+\n",
            "|mpg|cylinders|displacement|horsepower|weight|acceleration|model year|origin|car name|\n",
            "+---+---------+------------+----------+------+------------+----------+------+--------+\n",
            "|  0|        0|           0|         6|     0|           0|         0|     0|       0|\n",
            "+---+---------+------------+----------+------+------------+----------+------+--------+\n",
            "\n"
          ]
        }
      ]
    },
    {
      "cell_type": "code",
      "source": [
        "#3. Handling Missing Values and Converting horsepower from string to integer \n",
        "\n",
        "\n",
        "print(\"Total No of Row:\", df.count())\n",
        "df=df.na.drop()                             # missing values are small so those rows can be deleted\n",
        "print(\"After dropping row:\", df.count())\n",
        "\n",
        "df = df.withColumn(\"horsepower\",df[\"horsepower\"].cast(IntegerType()))\n",
        "\n",
        "df.show(5)"
      ],
      "metadata": {
        "execution": {
          "iopub.status.busy": "2021-12-24T19:51:44.655652Z",
          "iopub.execute_input": "2021-12-24T19:51:44.655950Z",
          "iopub.status.idle": "2021-12-24T19:51:44.774870Z",
          "shell.execute_reply.started": "2021-12-24T19:51:44.655894Z",
          "shell.execute_reply": "2021-12-24T19:51:44.773668Z"
        },
        "trusted": true,
        "colab": {
          "base_uri": "https://localhost:8080/"
        },
        "id": "GcWMBNrj2YPv",
        "outputId": "a2922cee-713f-4eed-9268-9ed7afc521a8"
      },
      "execution_count": 10,
      "outputs": [
        {
          "output_type": "stream",
          "name": "stdout",
          "text": [
            "Total No of Row: 398\n",
            "After dropping row: 392\n",
            "+----+---------+------------+----------+------+------------+----------+------+--------------------+\n",
            "| mpg|cylinders|displacement|horsepower|weight|acceleration|model year|origin|            car name|\n",
            "+----+---------+------------+----------+------+------------+----------+------+--------------------+\n",
            "|18.0|        8|       307.0|       130|  3504|        12.0|        70|     1|chevrolet chevell...|\n",
            "|15.0|        8|       350.0|       165|  3693|        11.5|        70|     1|   buick skylark 320|\n",
            "|18.0|        8|       318.0|       150|  3436|        11.0|        70|     1|  plymouth satellite|\n",
            "|16.0|        8|       304.0|       150|  3433|        12.0|        70|     1|       amc rebel sst|\n",
            "|17.0|        8|       302.0|       140|  3449|        10.5|        70|     1|         ford torino|\n",
            "+----+---------+------------+----------+------+------------+----------+------+--------------------+\n",
            "only showing top 5 rows\n",
            "\n"
          ]
        }
      ]
    },
    {
      "cell_type": "code",
      "source": [
        "\n",
        "df.columns"
      ],
      "metadata": {
        "execution": {
          "iopub.status.busy": "2021-12-24T19:51:44.776435Z",
          "iopub.execute_input": "2021-12-24T19:51:44.776748Z",
          "iopub.status.idle": "2021-12-24T19:51:44.790043Z",
          "shell.execute_reply.started": "2021-12-24T19:51:44.776703Z",
          "shell.execute_reply": "2021-12-24T19:51:44.788994Z"
        },
        "trusted": true,
        "colab": {
          "base_uri": "https://localhost:8080/"
        },
        "id": "a0xNhrJq2YPx",
        "outputId": "47cc0d32-0d03-4b27-c7dd-cd73101008fb"
      },
      "execution_count": 11,
      "outputs": [
        {
          "output_type": "execute_result",
          "data": {
            "text/plain": [
              "['mpg',\n",
              " 'cylinders',\n",
              " 'displacement',\n",
              " 'horsepower',\n",
              " 'weight',\n",
              " 'acceleration',\n",
              " 'model year',\n",
              " 'origin',\n",
              " 'car name']"
            ]
          },
          "metadata": {},
          "execution_count": 11
        }
      ]
    },
    {
      "cell_type": "code",
      "source": [
        "#5. Display dataframe in pandas dataframe table form first five rows\n",
        " \n",
        "pdf=df.toPandas()\n",
        "\n",
        "display(pdf.loc[0:4])"
      ],
      "metadata": {
        "execution": {
          "iopub.status.busy": "2021-12-24T19:51:44.792034Z",
          "iopub.execute_input": "2021-12-24T19:51:44.792937Z",
          "iopub.status.idle": "2021-12-24T19:51:44.907857Z",
          "shell.execute_reply.started": "2021-12-24T19:51:44.792847Z",
          "shell.execute_reply": "2021-12-24T19:51:44.906997Z"
        },
        "trusted": true,
        "colab": {
          "base_uri": "https://localhost:8080/",
          "height": 206
        },
        "id": "JM6oA2IQ2YPy",
        "outputId": "5072d91c-c135-4dac-b095-0d8b0de10d95"
      },
      "execution_count": 12,
      "outputs": [
        {
          "output_type": "display_data",
          "data": {
            "text/plain": [
              "    mpg  cylinders  displacement  horsepower  weight  acceleration  \\\n",
              "0  18.0          8         307.0         130    3504          12.0   \n",
              "1  15.0          8         350.0         165    3693          11.5   \n",
              "2  18.0          8         318.0         150    3436          11.0   \n",
              "3  16.0          8         304.0         150    3433          12.0   \n",
              "4  17.0          8         302.0         140    3449          10.5   \n",
              "\n",
              "   model year origin                   car name  \n",
              "0          70      1  chevrolet chevelle malibu  \n",
              "1          70      1          buick skylark 320  \n",
              "2          70      1         plymouth satellite  \n",
              "3          70      1              amc rebel sst  \n",
              "4          70      1                ford torino  "
            ],
            "text/html": [
              "\n",
              "  <div id=\"df-3ada7916-8935-42e5-b036-85e5b53a3d22\">\n",
              "    <div class=\"colab-df-container\">\n",
              "      <div>\n",
              "<style scoped>\n",
              "    .dataframe tbody tr th:only-of-type {\n",
              "        vertical-align: middle;\n",
              "    }\n",
              "\n",
              "    .dataframe tbody tr th {\n",
              "        vertical-align: top;\n",
              "    }\n",
              "\n",
              "    .dataframe thead th {\n",
              "        text-align: right;\n",
              "    }\n",
              "</style>\n",
              "<table border=\"1\" class=\"dataframe\">\n",
              "  <thead>\n",
              "    <tr style=\"text-align: right;\">\n",
              "      <th></th>\n",
              "      <th>mpg</th>\n",
              "      <th>cylinders</th>\n",
              "      <th>displacement</th>\n",
              "      <th>horsepower</th>\n",
              "      <th>weight</th>\n",
              "      <th>acceleration</th>\n",
              "      <th>model year</th>\n",
              "      <th>origin</th>\n",
              "      <th>car name</th>\n",
              "    </tr>\n",
              "  </thead>\n",
              "  <tbody>\n",
              "    <tr>\n",
              "      <th>0</th>\n",
              "      <td>18.0</td>\n",
              "      <td>8</td>\n",
              "      <td>307.0</td>\n",
              "      <td>130</td>\n",
              "      <td>3504</td>\n",
              "      <td>12.0</td>\n",
              "      <td>70</td>\n",
              "      <td>1</td>\n",
              "      <td>chevrolet chevelle malibu</td>\n",
              "    </tr>\n",
              "    <tr>\n",
              "      <th>1</th>\n",
              "      <td>15.0</td>\n",
              "      <td>8</td>\n",
              "      <td>350.0</td>\n",
              "      <td>165</td>\n",
              "      <td>3693</td>\n",
              "      <td>11.5</td>\n",
              "      <td>70</td>\n",
              "      <td>1</td>\n",
              "      <td>buick skylark 320</td>\n",
              "    </tr>\n",
              "    <tr>\n",
              "      <th>2</th>\n",
              "      <td>18.0</td>\n",
              "      <td>8</td>\n",
              "      <td>318.0</td>\n",
              "      <td>150</td>\n",
              "      <td>3436</td>\n",
              "      <td>11.0</td>\n",
              "      <td>70</td>\n",
              "      <td>1</td>\n",
              "      <td>plymouth satellite</td>\n",
              "    </tr>\n",
              "    <tr>\n",
              "      <th>3</th>\n",
              "      <td>16.0</td>\n",
              "      <td>8</td>\n",
              "      <td>304.0</td>\n",
              "      <td>150</td>\n",
              "      <td>3433</td>\n",
              "      <td>12.0</td>\n",
              "      <td>70</td>\n",
              "      <td>1</td>\n",
              "      <td>amc rebel sst</td>\n",
              "    </tr>\n",
              "    <tr>\n",
              "      <th>4</th>\n",
              "      <td>17.0</td>\n",
              "      <td>8</td>\n",
              "      <td>302.0</td>\n",
              "      <td>140</td>\n",
              "      <td>3449</td>\n",
              "      <td>10.5</td>\n",
              "      <td>70</td>\n",
              "      <td>1</td>\n",
              "      <td>ford torino</td>\n",
              "    </tr>\n",
              "  </tbody>\n",
              "</table>\n",
              "</div>\n",
              "      <button class=\"colab-df-convert\" onclick=\"convertToInteractive('df-3ada7916-8935-42e5-b036-85e5b53a3d22')\"\n",
              "              title=\"Convert this dataframe to an interactive table.\"\n",
              "              style=\"display:none;\">\n",
              "        \n",
              "  <svg xmlns=\"http://www.w3.org/2000/svg\" height=\"24px\"viewBox=\"0 0 24 24\"\n",
              "       width=\"24px\">\n",
              "    <path d=\"M0 0h24v24H0V0z\" fill=\"none\"/>\n",
              "    <path d=\"M18.56 5.44l.94 2.06.94-2.06 2.06-.94-2.06-.94-.94-2.06-.94 2.06-2.06.94zm-11 1L8.5 8.5l.94-2.06 2.06-.94-2.06-.94L8.5 2.5l-.94 2.06-2.06.94zm10 10l.94 2.06.94-2.06 2.06-.94-2.06-.94-.94-2.06-.94 2.06-2.06.94z\"/><path d=\"M17.41 7.96l-1.37-1.37c-.4-.4-.92-.59-1.43-.59-.52 0-1.04.2-1.43.59L10.3 9.45l-7.72 7.72c-.78.78-.78 2.05 0 2.83L4 21.41c.39.39.9.59 1.41.59.51 0 1.02-.2 1.41-.59l7.78-7.78 2.81-2.81c.8-.78.8-2.07 0-2.86zM5.41 20L4 18.59l7.72-7.72 1.47 1.35L5.41 20z\"/>\n",
              "  </svg>\n",
              "      </button>\n",
              "      \n",
              "  <style>\n",
              "    .colab-df-container {\n",
              "      display:flex;\n",
              "      flex-wrap:wrap;\n",
              "      gap: 12px;\n",
              "    }\n",
              "\n",
              "    .colab-df-convert {\n",
              "      background-color: #E8F0FE;\n",
              "      border: none;\n",
              "      border-radius: 50%;\n",
              "      cursor: pointer;\n",
              "      display: none;\n",
              "      fill: #1967D2;\n",
              "      height: 32px;\n",
              "      padding: 0 0 0 0;\n",
              "      width: 32px;\n",
              "    }\n",
              "\n",
              "    .colab-df-convert:hover {\n",
              "      background-color: #E2EBFA;\n",
              "      box-shadow: 0px 1px 2px rgba(60, 64, 67, 0.3), 0px 1px 3px 1px rgba(60, 64, 67, 0.15);\n",
              "      fill: #174EA6;\n",
              "    }\n",
              "\n",
              "    [theme=dark] .colab-df-convert {\n",
              "      background-color: #3B4455;\n",
              "      fill: #D2E3FC;\n",
              "    }\n",
              "\n",
              "    [theme=dark] .colab-df-convert:hover {\n",
              "      background-color: #434B5C;\n",
              "      box-shadow: 0px 1px 3px 1px rgba(0, 0, 0, 0.15);\n",
              "      filter: drop-shadow(0px 1px 2px rgba(0, 0, 0, 0.3));\n",
              "      fill: #FFFFFF;\n",
              "    }\n",
              "  </style>\n",
              "\n",
              "      <script>\n",
              "        const buttonEl =\n",
              "          document.querySelector('#df-3ada7916-8935-42e5-b036-85e5b53a3d22 button.colab-df-convert');\n",
              "        buttonEl.style.display =\n",
              "          google.colab.kernel.accessAllowed ? 'block' : 'none';\n",
              "\n",
              "        async function convertToInteractive(key) {\n",
              "          const element = document.querySelector('#df-3ada7916-8935-42e5-b036-85e5b53a3d22');\n",
              "          const dataTable =\n",
              "            await google.colab.kernel.invokeFunction('convertToInteractive',\n",
              "                                                     [key], {});\n",
              "          if (!dataTable) return;\n",
              "\n",
              "          const docLinkHtml = 'Like what you see? Visit the ' +\n",
              "            '<a target=\"_blank\" href=https://colab.research.google.com/notebooks/data_table.ipynb>data table notebook</a>'\n",
              "            + ' to learn more about interactive tables.';\n",
              "          element.innerHTML = '';\n",
              "          dataTable['output_type'] = 'display_data';\n",
              "          await google.colab.output.renderOutput(dataTable, element);\n",
              "          const docLink = document.createElement('div');\n",
              "          docLink.innerHTML = docLinkHtml;\n",
              "          element.appendChild(docLink);\n",
              "        }\n",
              "      </script>\n",
              "    </div>\n",
              "  </div>\n",
              "  "
            ]
          },
          "metadata": {}
        }
      ]
    },
    {
      "cell_type": "code",
      "source": [
        "#6. Print Schema\n",
        "\n",
        "df.printSchema()"
      ],
      "metadata": {
        "execution": {
          "iopub.status.busy": "2021-12-24T19:51:44.909435Z",
          "iopub.execute_input": "2021-12-24T19:51:44.909911Z",
          "iopub.status.idle": "2021-12-24T19:51:44.915450Z",
          "shell.execute_reply.started": "2021-12-24T19:51:44.909867Z",
          "shell.execute_reply": "2021-12-24T19:51:44.914610Z"
        },
        "trusted": true,
        "colab": {
          "base_uri": "https://localhost:8080/"
        },
        "id": "lH2ySFLl2YPy",
        "outputId": "ebc50252-19a1-4964-a1ba-e4feb5d6e33d"
      },
      "execution_count": 13,
      "outputs": [
        {
          "output_type": "stream",
          "name": "stdout",
          "text": [
            "root\n",
            " |-- mpg: double (nullable = true)\n",
            " |-- cylinders: integer (nullable = true)\n",
            " |-- displacement: double (nullable = true)\n",
            " |-- horsepower: integer (nullable = true)\n",
            " |-- weight: integer (nullable = true)\n",
            " |-- acceleration: double (nullable = true)\n",
            " |-- model year: integer (nullable = true)\n",
            " |-- origin: string (nullable = true)\n",
            " |-- car name: string (nullable = true)\n",
            "\n"
          ]
        }
      ]
    },
    {
      "cell_type": "code",
      "source": [
        "#7. Renaming Columns\n",
        "\n",
        "df = df.withColumnRenamed('model year', 'model_year')\n",
        "df = df.withColumnRenamed('car name', 'car_name')\n",
        "\n",
        "df.show(3)"
      ],
      "metadata": {
        "execution": {
          "iopub.status.busy": "2021-12-24T19:51:44.919247Z",
          "iopub.execute_input": "2021-12-24T19:51:44.919740Z",
          "iopub.status.idle": "2021-12-24T19:51:45.008695Z",
          "shell.execute_reply.started": "2021-12-24T19:51:44.919697Z",
          "shell.execute_reply": "2021-12-24T19:51:45.007681Z"
        },
        "trusted": true,
        "colab": {
          "base_uri": "https://localhost:8080/"
        },
        "id": "eEO0HRQh2YP0",
        "outputId": "3cec4cf7-ec0f-4061-b444-2b289f4a63c2"
      },
      "execution_count": 14,
      "outputs": [
        {
          "output_type": "stream",
          "name": "stdout",
          "text": [
            "+----+---------+------------+----------+------+------------+----------+------+--------------------+\n",
            "| mpg|cylinders|displacement|horsepower|weight|acceleration|model_year|origin|            car_name|\n",
            "+----+---------+------------+----------+------+------------+----------+------+--------------------+\n",
            "|18.0|        8|       307.0|       130|  3504|        12.0|        70|     1|chevrolet chevell...|\n",
            "|15.0|        8|       350.0|       165|  3693|        11.5|        70|     1|   buick skylark 320|\n",
            "|18.0|        8|       318.0|       150|  3436|        11.0|        70|     1|  plymouth satellite|\n",
            "+----+---------+------------+----------+------+------------+----------+------+--------------------+\n",
            "only showing top 3 rows\n",
            "\n"
          ]
        }
      ]
    },
    {
      "cell_type": "code",
      "source": [
        "#8.Display first five rows in list form\n",
        "\n",
        "df.head(5)"
      ],
      "metadata": {
        "execution": {
          "iopub.status.busy": "2021-12-24T19:51:45.009703Z",
          "iopub.execute_input": "2021-12-24T19:51:45.009949Z",
          "iopub.status.idle": "2021-12-24T19:51:45.090720Z",
          "shell.execute_reply.started": "2021-12-24T19:51:45.009901Z",
          "shell.execute_reply": "2021-12-24T19:51:45.089775Z"
        },
        "trusted": true,
        "id": "65Whj9-Y2YP0",
        "colab": {
          "base_uri": "https://localhost:8080/"
        },
        "outputId": "0652bead-a420-46f0-9f61-f212761aac50"
      },
      "execution_count": 15,
      "outputs": [
        {
          "output_type": "execute_result",
          "data": {
            "text/plain": [
              "[Row(mpg=18.0, cylinders=8, displacement=307.0, horsepower=130, weight=3504, acceleration=12.0, model_year=70, origin='1', car_name='chevrolet chevelle malibu'),\n",
              " Row(mpg=15.0, cylinders=8, displacement=350.0, horsepower=165, weight=3693, acceleration=11.5, model_year=70, origin='1', car_name='buick skylark 320'),\n",
              " Row(mpg=18.0, cylinders=8, displacement=318.0, horsepower=150, weight=3436, acceleration=11.0, model_year=70, origin='1', car_name='plymouth satellite'),\n",
              " Row(mpg=16.0, cylinders=8, displacement=304.0, horsepower=150, weight=3433, acceleration=12.0, model_year=70, origin='1', car_name='amc rebel sst'),\n",
              " Row(mpg=17.0, cylinders=8, displacement=302.0, horsepower=140, weight=3449, acceleration=10.5, model_year=70, origin='1', car_name='ford torino')]"
            ]
          },
          "metadata": {},
          "execution_count": 15
        }
      ]
    },
    {
      "cell_type": "code",
      "source": [
        "#9. Describe complete dataset\n",
        "\n",
        "df.describe().show()"
      ],
      "metadata": {
        "execution": {
          "iopub.status.busy": "2021-12-24T19:51:45.094636Z",
          "iopub.execute_input": "2021-12-24T19:51:45.094978Z",
          "iopub.status.idle": "2021-12-24T19:51:45.506989Z",
          "shell.execute_reply.started": "2021-12-24T19:51:45.094937Z",
          "shell.execute_reply": "2021-12-24T19:51:45.505742Z"
        },
        "trusted": true,
        "colab": {
          "base_uri": "https://localhost:8080/"
        },
        "id": "sKWEGSVW2YP1",
        "outputId": "fa3a2dc1-165b-47ae-b566-aaadba637959"
      },
      "execution_count": 16,
      "outputs": [
        {
          "output_type": "stream",
          "name": "stdout",
          "text": [
            "+-------+-----------------+------------------+------------------+------------------+------------------+------------------+-----------------+------------------+--------------------+\n",
            "|summary|              mpg|         cylinders|      displacement|        horsepower|            weight|      acceleration|       model_year|            origin|            car_name|\n",
            "+-------+-----------------+------------------+------------------+------------------+------------------+------------------+-----------------+------------------+--------------------+\n",
            "|  count|              392|               392|               392|               392|               392|               392|              392|               392|                 392|\n",
            "|   mean|23.44591836734694| 5.471938775510204|194.41198979591837|104.46938775510205|2977.5841836734694|15.541326530612228| 75.9795918367347|1.5765306122448979|                null|\n",
            "| stddev|7.805007486571802|1.7057832474527845|104.64400390890465| 38.49115993282846| 849.4025600429486|  2.75886411918808|3.683736543577868|0.8055181834183057|                null|\n",
            "|    min|              9.0|                 3|              68.0|                46|              1613|               8.0|               70|                 1|amc ambassador br...|\n",
            "|    max|             46.6|                 8|             455.0|               230|              5140|              24.8|               82|                 3|    vw rabbit custom|\n",
            "+-------+-----------------+------------------+------------------+------------------+------------------+------------------+-----------------+------------------+--------------------+\n",
            "\n"
          ]
        }
      ]
    },
    {
      "cell_type": "code",
      "source": [
        "#10. Describe Two columns mpg and horsepower\n",
        "\n",
        "df.select(['mpg', 'horsepower']).describe().show()"
      ],
      "metadata": {
        "execution": {
          "iopub.status.busy": "2021-12-24T19:51:45.508244Z",
          "iopub.execute_input": "2021-12-24T19:51:45.509150Z",
          "iopub.status.idle": "2021-12-24T19:51:45.837473Z",
          "shell.execute_reply.started": "2021-12-24T19:51:45.509100Z",
          "shell.execute_reply": "2021-12-24T19:51:45.836597Z"
        },
        "trusted": true,
        "colab": {
          "base_uri": "https://localhost:8080/"
        },
        "id": "e0yiKFJ92YP8",
        "outputId": "dc6ae9ab-f668-4ae8-ebcb-f1603704d746"
      },
      "execution_count": 17,
      "outputs": [
        {
          "output_type": "stream",
          "name": "stdout",
          "text": [
            "+-------+-----------------+------------------+\n",
            "|summary|              mpg|        horsepower|\n",
            "+-------+-----------------+------------------+\n",
            "|  count|              392|               392|\n",
            "|   mean|23.44591836734694|104.46938775510205|\n",
            "| stddev|7.805007486571802| 38.49115993282846|\n",
            "|    min|              9.0|                46|\n",
            "|    max|             46.6|               230|\n",
            "+-------+-----------------+------------------+\n",
            "\n"
          ]
        }
      ]
    },
    {
      "cell_type": "code",
      "source": [
        "#11. Describe the numerical columns only\n",
        "\n",
        "pdf.describe(include=[np.number])"
      ],
      "metadata": {
        "execution": {
          "iopub.status.busy": "2021-12-24T19:51:45.838615Z",
          "iopub.execute_input": "2021-12-24T19:51:45.838893Z",
          "iopub.status.idle": "2021-12-24T19:51:46.231019Z",
          "shell.execute_reply.started": "2021-12-24T19:51:45.838854Z",
          "shell.execute_reply": "2021-12-24T19:51:46.230050Z"
        },
        "trusted": true,
        "id": "RskvQvz_2YP9",
        "colab": {
          "base_uri": "https://localhost:8080/",
          "height": 300
        },
        "outputId": "c857aa16-70b9-48f7-b156-c98e569d2abb"
      },
      "execution_count": 18,
      "outputs": [
        {
          "output_type": "execute_result",
          "data": {
            "text/plain": [
              "              mpg   cylinders  displacement  horsepower       weight  \\\n",
              "count  392.000000  392.000000    392.000000  392.000000   392.000000   \n",
              "mean    23.445918    5.471939    194.411990  104.469388  2977.584184   \n",
              "std      7.805007    1.705783    104.644004   38.491160   849.402560   \n",
              "min      9.000000    3.000000     68.000000   46.000000  1613.000000   \n",
              "25%     17.000000    4.000000    105.000000   75.000000  2225.250000   \n",
              "50%     22.750000    4.000000    151.000000   93.500000  2803.500000   \n",
              "75%     29.000000    8.000000    275.750000  126.000000  3614.750000   \n",
              "max     46.600000    8.000000    455.000000  230.000000  5140.000000   \n",
              "\n",
              "       acceleration  model year  \n",
              "count    392.000000  392.000000  \n",
              "mean      15.541327   75.979592  \n",
              "std        2.758864    3.683737  \n",
              "min        8.000000   70.000000  \n",
              "25%       13.775000   73.000000  \n",
              "50%       15.500000   76.000000  \n",
              "75%       17.025000   79.000000  \n",
              "max       24.800000   82.000000  "
            ],
            "text/html": [
              "\n",
              "  <div id=\"df-694cbc17-b5b3-4d38-99bf-cf0e49f5c07c\">\n",
              "    <div class=\"colab-df-container\">\n",
              "      <div>\n",
              "<style scoped>\n",
              "    .dataframe tbody tr th:only-of-type {\n",
              "        vertical-align: middle;\n",
              "    }\n",
              "\n",
              "    .dataframe tbody tr th {\n",
              "        vertical-align: top;\n",
              "    }\n",
              "\n",
              "    .dataframe thead th {\n",
              "        text-align: right;\n",
              "    }\n",
              "</style>\n",
              "<table border=\"1\" class=\"dataframe\">\n",
              "  <thead>\n",
              "    <tr style=\"text-align: right;\">\n",
              "      <th></th>\n",
              "      <th>mpg</th>\n",
              "      <th>cylinders</th>\n",
              "      <th>displacement</th>\n",
              "      <th>horsepower</th>\n",
              "      <th>weight</th>\n",
              "      <th>acceleration</th>\n",
              "      <th>model year</th>\n",
              "    </tr>\n",
              "  </thead>\n",
              "  <tbody>\n",
              "    <tr>\n",
              "      <th>count</th>\n",
              "      <td>392.000000</td>\n",
              "      <td>392.000000</td>\n",
              "      <td>392.000000</td>\n",
              "      <td>392.000000</td>\n",
              "      <td>392.000000</td>\n",
              "      <td>392.000000</td>\n",
              "      <td>392.000000</td>\n",
              "    </tr>\n",
              "    <tr>\n",
              "      <th>mean</th>\n",
              "      <td>23.445918</td>\n",
              "      <td>5.471939</td>\n",
              "      <td>194.411990</td>\n",
              "      <td>104.469388</td>\n",
              "      <td>2977.584184</td>\n",
              "      <td>15.541327</td>\n",
              "      <td>75.979592</td>\n",
              "    </tr>\n",
              "    <tr>\n",
              "      <th>std</th>\n",
              "      <td>7.805007</td>\n",
              "      <td>1.705783</td>\n",
              "      <td>104.644004</td>\n",
              "      <td>38.491160</td>\n",
              "      <td>849.402560</td>\n",
              "      <td>2.758864</td>\n",
              "      <td>3.683737</td>\n",
              "    </tr>\n",
              "    <tr>\n",
              "      <th>min</th>\n",
              "      <td>9.000000</td>\n",
              "      <td>3.000000</td>\n",
              "      <td>68.000000</td>\n",
              "      <td>46.000000</td>\n",
              "      <td>1613.000000</td>\n",
              "      <td>8.000000</td>\n",
              "      <td>70.000000</td>\n",
              "    </tr>\n",
              "    <tr>\n",
              "      <th>25%</th>\n",
              "      <td>17.000000</td>\n",
              "      <td>4.000000</td>\n",
              "      <td>105.000000</td>\n",
              "      <td>75.000000</td>\n",
              "      <td>2225.250000</td>\n",
              "      <td>13.775000</td>\n",
              "      <td>73.000000</td>\n",
              "    </tr>\n",
              "    <tr>\n",
              "      <th>50%</th>\n",
              "      <td>22.750000</td>\n",
              "      <td>4.000000</td>\n",
              "      <td>151.000000</td>\n",
              "      <td>93.500000</td>\n",
              "      <td>2803.500000</td>\n",
              "      <td>15.500000</td>\n",
              "      <td>76.000000</td>\n",
              "    </tr>\n",
              "    <tr>\n",
              "      <th>75%</th>\n",
              "      <td>29.000000</td>\n",
              "      <td>8.000000</td>\n",
              "      <td>275.750000</td>\n",
              "      <td>126.000000</td>\n",
              "      <td>3614.750000</td>\n",
              "      <td>17.025000</td>\n",
              "      <td>79.000000</td>\n",
              "    </tr>\n",
              "    <tr>\n",
              "      <th>max</th>\n",
              "      <td>46.600000</td>\n",
              "      <td>8.000000</td>\n",
              "      <td>455.000000</td>\n",
              "      <td>230.000000</td>\n",
              "      <td>5140.000000</td>\n",
              "      <td>24.800000</td>\n",
              "      <td>82.000000</td>\n",
              "    </tr>\n",
              "  </tbody>\n",
              "</table>\n",
              "</div>\n",
              "      <button class=\"colab-df-convert\" onclick=\"convertToInteractive('df-694cbc17-b5b3-4d38-99bf-cf0e49f5c07c')\"\n",
              "              title=\"Convert this dataframe to an interactive table.\"\n",
              "              style=\"display:none;\">\n",
              "        \n",
              "  <svg xmlns=\"http://www.w3.org/2000/svg\" height=\"24px\"viewBox=\"0 0 24 24\"\n",
              "       width=\"24px\">\n",
              "    <path d=\"M0 0h24v24H0V0z\" fill=\"none\"/>\n",
              "    <path d=\"M18.56 5.44l.94 2.06.94-2.06 2.06-.94-2.06-.94-.94-2.06-.94 2.06-2.06.94zm-11 1L8.5 8.5l.94-2.06 2.06-.94-2.06-.94L8.5 2.5l-.94 2.06-2.06.94zm10 10l.94 2.06.94-2.06 2.06-.94-2.06-.94-.94-2.06-.94 2.06-2.06.94z\"/><path d=\"M17.41 7.96l-1.37-1.37c-.4-.4-.92-.59-1.43-.59-.52 0-1.04.2-1.43.59L10.3 9.45l-7.72 7.72c-.78.78-.78 2.05 0 2.83L4 21.41c.39.39.9.59 1.41.59.51 0 1.02-.2 1.41-.59l7.78-7.78 2.81-2.81c.8-.78.8-2.07 0-2.86zM5.41 20L4 18.59l7.72-7.72 1.47 1.35L5.41 20z\"/>\n",
              "  </svg>\n",
              "      </button>\n",
              "      \n",
              "  <style>\n",
              "    .colab-df-container {\n",
              "      display:flex;\n",
              "      flex-wrap:wrap;\n",
              "      gap: 12px;\n",
              "    }\n",
              "\n",
              "    .colab-df-convert {\n",
              "      background-color: #E8F0FE;\n",
              "      border: none;\n",
              "      border-radius: 50%;\n",
              "      cursor: pointer;\n",
              "      display: none;\n",
              "      fill: #1967D2;\n",
              "      height: 32px;\n",
              "      padding: 0 0 0 0;\n",
              "      width: 32px;\n",
              "    }\n",
              "\n",
              "    .colab-df-convert:hover {\n",
              "      background-color: #E2EBFA;\n",
              "      box-shadow: 0px 1px 2px rgba(60, 64, 67, 0.3), 0px 1px 3px 1px rgba(60, 64, 67, 0.15);\n",
              "      fill: #174EA6;\n",
              "    }\n",
              "\n",
              "    [theme=dark] .colab-df-convert {\n",
              "      background-color: #3B4455;\n",
              "      fill: #D2E3FC;\n",
              "    }\n",
              "\n",
              "    [theme=dark] .colab-df-convert:hover {\n",
              "      background-color: #434B5C;\n",
              "      box-shadow: 0px 1px 3px 1px rgba(0, 0, 0, 0.15);\n",
              "      filter: drop-shadow(0px 1px 2px rgba(0, 0, 0, 0.3));\n",
              "      fill: #FFFFFF;\n",
              "    }\n",
              "  </style>\n",
              "\n",
              "      <script>\n",
              "        const buttonEl =\n",
              "          document.querySelector('#df-694cbc17-b5b3-4d38-99bf-cf0e49f5c07c button.colab-df-convert');\n",
              "        buttonEl.style.display =\n",
              "          google.colab.kernel.accessAllowed ? 'block' : 'none';\n",
              "\n",
              "        async function convertToInteractive(key) {\n",
              "          const element = document.querySelector('#df-694cbc17-b5b3-4d38-99bf-cf0e49f5c07c');\n",
              "          const dataTable =\n",
              "            await google.colab.kernel.invokeFunction('convertToInteractive',\n",
              "                                                     [key], {});\n",
              "          if (!dataTable) return;\n",
              "\n",
              "          const docLinkHtml = 'Like what you see? Visit the ' +\n",
              "            '<a target=\"_blank\" href=https://colab.research.google.com/notebooks/data_table.ipynb>data table notebook</a>'\n",
              "            + ' to learn more about interactive tables.';\n",
              "          element.innerHTML = '';\n",
              "          dataTable['output_type'] = 'display_data';\n",
              "          await google.colab.output.renderOutput(dataTable, element);\n",
              "          const docLink = document.createElement('div');\n",
              "          docLink.innerHTML = docLinkHtml;\n",
              "          element.appendChild(docLink);\n",
              "        }\n",
              "      </script>\n",
              "    </div>\n",
              "  </div>\n",
              "  "
            ]
          },
          "metadata": {},
          "execution_count": 18
        }
      ]
    },
    {
      "cell_type": "code",
      "source": [
        "#12. Lets get the cars with 'mpg' at least 23 (top 5 rows only)\n",
        "\n",
        "df.filter(df.mpg >= 23).show(5)"
      ],
      "metadata": {
        "execution": {
          "iopub.status.busy": "2021-12-24T19:51:46.232252Z",
          "iopub.execute_input": "2021-12-24T19:51:46.232586Z",
          "iopub.status.idle": "2021-12-24T19:51:46.346601Z",
          "shell.execute_reply.started": "2021-12-24T19:51:46.232517Z",
          "shell.execute_reply": "2021-12-24T19:51:46.345716Z"
        },
        "trusted": true,
        "id": "24bTEdps2YP-",
        "colab": {
          "base_uri": "https://localhost:8080/"
        },
        "outputId": "ed57b99f-d789-48e8-82d7-2cc100f2d845"
      },
      "execution_count": 19,
      "outputs": [
        {
          "output_type": "stream",
          "name": "stdout",
          "text": [
            "+----+---------+------------+----------+------+------------+----------+------+--------------------+\n",
            "| mpg|cylinders|displacement|horsepower|weight|acceleration|model_year|origin|            car_name|\n",
            "+----+---------+------------+----------+------+------------+----------+------+--------------------+\n",
            "|24.0|        4|       113.0|        95|  2372|        15.0|        70|     3|toyota corona mar...|\n",
            "|27.0|        4|        97.0|        88|  2130|        14.5|        70|     3|        datsun pl510|\n",
            "|26.0|        4|        97.0|        46|  1835|        20.5|        70|     2|volkswagen 1131 d...|\n",
            "|25.0|        4|       110.0|        87|  2672|        17.5|        70|     2|         peugeot 504|\n",
            "|24.0|        4|       107.0|        90|  2430|        14.5|        70|     2|         audi 100 ls|\n",
            "+----+---------+------------+----------+------+------------+----------+------+--------------------+\n",
            "only showing top 5 rows\n",
            "\n"
          ]
        }
      ]
    },
    {
      "cell_type": "code",
      "source": [
        "#13. Show car names with horsepower not less than 80 and weight should not be less than 2k (top 5 rows only)\n",
        "\n",
        "df.filter((df.horsepower>=80)&(df.weight>=2000)).show(5)"
      ],
      "metadata": {
        "execution": {
          "iopub.status.busy": "2021-12-24T19:51:46.347831Z",
          "iopub.execute_input": "2021-12-24T19:51:46.348853Z",
          "iopub.status.idle": "2021-12-24T19:51:46.429989Z",
          "shell.execute_reply.started": "2021-12-24T19:51:46.348806Z",
          "shell.execute_reply": "2021-12-24T19:51:46.429011Z"
        },
        "trusted": true,
        "id": "jwCprt5v2YP_",
        "colab": {
          "base_uri": "https://localhost:8080/"
        },
        "outputId": "95f2f113-a660-4439-dd02-376a1ae44552"
      },
      "execution_count": 20,
      "outputs": [
        {
          "output_type": "stream",
          "name": "stdout",
          "text": [
            "+----+---------+------------+----------+------+------------+----------+------+--------------------+\n",
            "| mpg|cylinders|displacement|horsepower|weight|acceleration|model_year|origin|            car_name|\n",
            "+----+---------+------------+----------+------+------------+----------+------+--------------------+\n",
            "|18.0|        8|       307.0|       130|  3504|        12.0|        70|     1|chevrolet chevell...|\n",
            "|15.0|        8|       350.0|       165|  3693|        11.5|        70|     1|   buick skylark 320|\n",
            "|18.0|        8|       318.0|       150|  3436|        11.0|        70|     1|  plymouth satellite|\n",
            "|16.0|        8|       304.0|       150|  3433|        12.0|        70|     1|       amc rebel sst|\n",
            "|17.0|        8|       302.0|       140|  3449|        10.5|        70|     1|         ford torino|\n",
            "+----+---------+------------+----------+------+------------+----------+------+--------------------+\n",
            "only showing top 5 rows\n",
            "\n"
          ]
        }
      ]
    },
    {
      "cell_type": "code",
      "source": [
        "#14. Show top 3 rows with 'mpg' greater than 25 while 'origin' equal to 2.\n",
        "\n",
        "df.filter((df.mpg>=25)&(df.origin==2)).show(3)"
      ],
      "metadata": {
        "execution": {
          "iopub.status.busy": "2021-12-24T19:51:46.430864Z",
          "iopub.execute_input": "2021-12-24T19:51:46.431083Z",
          "iopub.status.idle": "2021-12-24T19:51:46.549224Z",
          "shell.execute_reply.started": "2021-12-24T19:51:46.431056Z",
          "shell.execute_reply": "2021-12-24T19:51:46.548065Z"
        },
        "trusted": true,
        "id": "1Tj6dG4Y2YQA",
        "colab": {
          "base_uri": "https://localhost:8080/"
        },
        "outputId": "4fe04208-adae-4dad-9b8d-ea059a1ff2db"
      },
      "execution_count": 21,
      "outputs": [
        {
          "output_type": "stream",
          "name": "stdout",
          "text": [
            "+----+---------+------------+----------+------+------------+----------+------+--------------------+\n",
            "| mpg|cylinders|displacement|horsepower|weight|acceleration|model_year|origin|            car_name|\n",
            "+----+---------+------------+----------+------+------------+----------+------+--------------------+\n",
            "|26.0|        4|        97.0|        46|  1835|        20.5|        70|     2|volkswagen 1131 d...|\n",
            "|25.0|        4|       110.0|        87|  2672|        17.5|        70|     2|         peugeot 504|\n",
            "|25.0|        4|       104.0|        95|  2375|        17.5|        70|     2|            saab 99e|\n",
            "+----+---------+------------+----------+------+------------+----------+------+--------------------+\n",
            "only showing top 3 rows\n",
            "\n"
          ]
        }
      ]
    },
    {
      "cell_type": "code",
      "source": [
        "#15. Obtain the following ouput\n",
        "\n",
        "df.filter(df.car_name.contains('volkswagen')).show(5)"
      ],
      "metadata": {
        "execution": {
          "iopub.status.busy": "2021-12-24T19:51:46.550667Z",
          "iopub.execute_input": "2021-12-24T19:51:46.550994Z",
          "iopub.status.idle": "2021-12-24T19:51:46.655393Z",
          "shell.execute_reply.started": "2021-12-24T19:51:46.550951Z",
          "shell.execute_reply": "2021-12-24T19:51:46.654257Z"
        },
        "trusted": true,
        "colab": {
          "base_uri": "https://localhost:8080/"
        },
        "id": "F59f6Z052YQA",
        "outputId": "e8cd359e-fb2d-4d50-fe13-1a600a3b1417"
      },
      "execution_count": 22,
      "outputs": [
        {
          "output_type": "stream",
          "name": "stdout",
          "text": [
            "+----+---------+------------+----------+------+------------+----------+------+--------------------+\n",
            "| mpg|cylinders|displacement|horsepower|weight|acceleration|model_year|origin|            car_name|\n",
            "+----+---------+------------+----------+------+------------+----------+------+--------------------+\n",
            "|26.0|        4|        97.0|        46|  1835|        20.5|        70|     2|volkswagen 1131 d...|\n",
            "|27.0|        4|        97.0|        60|  1834|        19.0|        71|     2|volkswagen model 111|\n",
            "|23.0|        4|        97.0|        54|  2254|        23.5|        72|     2|   volkswagen type 3|\n",
            "|22.0|        4|       121.0|        76|  2511|        18.0|        72|     2| volkswagen 411 (sw)|\n",
            "|26.0|        4|        97.0|        46|  1950|        21.0|        73|     2|volkswagen super ...|\n",
            "+----+---------+------------+----------+------+------------+----------+------+--------------------+\n",
            "only showing top 5 rows\n",
            "\n"
          ]
        }
      ]
    },
    {
      "cell_type": "code",
      "source": [
        "#16. Extract Brands from car_name column & also replace Misspelled Brands\n",
        "\n",
        "df= df.withColumn('carbrand', split(df['car_name'], ' ').getItem(0)) \n",
        "df = df.drop('car_name')\n",
        "\n",
        "df=df.withColumn(\"carbrand\", regexp_replace(\"carbrand\", 'chevroelt', 'chevrolet'))\n",
        "df=df.withColumn(\"Carbrand\", regexp_replace(\"carbrand\", 'chevy', 'chevrolet'))\n",
        "df=df.withColumn(\"carbrand\", regexp_replace(\"carbrand\", 'vokswagen', 'volkswagen'))\n",
        "df=df.withColumn(\"carbrand\", regexp_replace(\"carbrand\", 'vw', 'volkswagen'))\n",
        "df=df.withColumn(\"carbrand\", regexp_replace(\"carbrand\", 'hi', 'harvester'))\n",
        "df=df.withColumn(\"carbrand\", regexp_replace(\"carbrand\", 'maxda', 'mazda'))\n",
        "df=df.withColumn(\"carbrand\", regexp_replace(\"carbrand\", 'toyouta', 'toyota'))\n",
        "df=df.withColumn(\"carbrand\", regexp_replace(\"carbrand\", 'mercedes-benz', 'mercedes'))\n",
        "\n",
        "df = df.withColumnRenamed('carbrand', 'brand')\n",
        "df.show(15)"
      ],
      "metadata": {
        "execution": {
          "iopub.status.busy": "2021-12-24T19:51:47.234394Z",
          "iopub.execute_input": "2021-12-24T19:51:47.234701Z",
          "iopub.status.idle": "2021-12-24T19:51:47.448847Z",
          "shell.execute_reply.started": "2021-12-24T19:51:47.234636Z",
          "shell.execute_reply": "2021-12-24T19:51:47.446228Z"
        },
        "trusted": true,
        "colab": {
          "base_uri": "https://localhost:8080/"
        },
        "id": "yV1ZtIx72YQE",
        "outputId": "69dba62e-697e-4f75-e5e0-923ab3995866"
      },
      "execution_count": 23,
      "outputs": [
        {
          "output_type": "stream",
          "name": "stdout",
          "text": [
            "+----+---------+------------+----------+------+------------+----------+------+---------+\n",
            "| mpg|cylinders|displacement|horsepower|weight|acceleration|model_year|origin|    brand|\n",
            "+----+---------+------------+----------+------+------------+----------+------+---------+\n",
            "|18.0|        8|       307.0|       130|  3504|        12.0|        70|     1|chevrolet|\n",
            "|15.0|        8|       350.0|       165|  3693|        11.5|        70|     1|    buick|\n",
            "|18.0|        8|       318.0|       150|  3436|        11.0|        70|     1| plymouth|\n",
            "|16.0|        8|       304.0|       150|  3433|        12.0|        70|     1|      amc|\n",
            "|17.0|        8|       302.0|       140|  3449|        10.5|        70|     1|     ford|\n",
            "|15.0|        8|       429.0|       198|  4341|        10.0|        70|     1|     ford|\n",
            "|14.0|        8|       454.0|       220|  4354|         9.0|        70|     1|chevrolet|\n",
            "|14.0|        8|       440.0|       215|  4312|         8.5|        70|     1| plymouth|\n",
            "|14.0|        8|       455.0|       225|  4425|        10.0|        70|     1|  pontiac|\n",
            "|15.0|        8|       390.0|       190|  3850|         8.5|        70|     1|      amc|\n",
            "|15.0|        8|       383.0|       170|  3563|        10.0|        70|     1|    dodge|\n",
            "|14.0|        8|       340.0|       160|  3609|         8.0|        70|     1| plymouth|\n",
            "|15.0|        8|       400.0|       150|  3761|         9.5|        70|     1|chevrolet|\n",
            "|14.0|        8|       455.0|       225|  3086|        10.0|        70|     1|    buick|\n",
            "|24.0|        4|       113.0|        95|  2372|        15.0|        70|     3|   toyota|\n",
            "+----+---------+------------+----------+------+------------+----------+------+---------+\n",
            "only showing top 15 rows\n",
            "\n"
          ]
        }
      ]
    },
    {
      "cell_type": "code",
      "source": [
        "#17. Show the average acceleration by car brands.\n",
        "\n",
        "x=df.select('brand').distinct().count()\n",
        "\n",
        "df.select(['acceleration', 'brand',]).groupBy('brand').mean().orderBy('brand').show(x)"
      ],
      "metadata": {
        "execution": {
          "iopub.status.busy": "2021-12-24T19:51:47.450320Z",
          "iopub.execute_input": "2021-12-24T19:51:47.451159Z",
          "iopub.status.idle": "2021-12-24T19:51:47.637778Z",
          "shell.execute_reply.started": "2021-12-24T19:51:47.451109Z",
          "shell.execute_reply": "2021-12-24T19:51:47.637124Z"
        },
        "trusted": true,
        "id": "Fp8mdyxZ2YQF",
        "colab": {
          "base_uri": "https://localhost:8080/"
        },
        "outputId": "bb19d274-b218-4154-fa75-0d1aee192c78"
      },
      "execution_count": 24,
      "outputs": [
        {
          "output_type": "stream",
          "name": "stdout",
          "text": [
            "+----------+------------------+\n",
            "|     brand| avg(acceleration)|\n",
            "+----------+------------------+\n",
            "|       amc|15.070370370370371|\n",
            "|      audi|15.942857142857141|\n",
            "|       bmw|             12.65|\n",
            "|     buick|14.700000000000003|\n",
            "|  cadillac|             14.75|\n",
            "|     capri|              14.9|\n",
            "| chevrolet| 15.39787234042553|\n",
            "|  chrysler|13.300000000000002|\n",
            "|    datsun| 16.40869565217391|\n",
            "|     dodge|14.460714285714284|\n",
            "|      fiat|             15.65|\n",
            "|      ford| 15.29166666666667|\n",
            "| harvester|              18.5|\n",
            "|     honda| 15.99230769230769|\n",
            "|     mazda|16.091666666666665|\n",
            "|  mercedes| 19.53333333333333|\n",
            "|   mercury|14.963636363636363|\n",
            "|    nissan|              14.5|\n",
            "|oldsmobile|             16.02|\n",
            "|      opel|            15.225|\n",
            "|   peugeot|             19.55|\n",
            "|  plymouth|14.851612903225801|\n",
            "|   pontiac|14.081249999999999|\n",
            "|   renault|              17.3|\n",
            "|      saab|            15.175|\n",
            "|    subaru|            16.925|\n",
            "|    toyota| 16.03846153846154|\n",
            "|   triumph|              15.1|\n",
            "|volkswagen|17.404545454545453|\n",
            "|     volvo|15.566666666666668|\n",
            "+----------+------------------+\n",
            "\n"
          ]
        }
      ]
    },
    {
      "cell_type": "code",
      "source": [
        "#18. Calculate the Maximum MPG by car brands.\n",
        "\n",
        "x=df.select('brand').distinct().count()\n",
        "\n",
        "df.select(['mpg', 'brand',]).groupBy('brand').max().orderBy('brand').show(x)"
      ],
      "metadata": {
        "execution": {
          "iopub.status.busy": "2021-12-24T19:51:47.639093Z",
          "iopub.execute_input": "2021-12-24T19:51:47.639307Z",
          "iopub.status.idle": "2021-12-24T19:51:47.814701Z",
          "shell.execute_reply.started": "2021-12-24T19:51:47.639282Z",
          "shell.execute_reply": "2021-12-24T19:51:47.813811Z"
        },
        "trusted": true,
        "id": "0UQWW5942YQF",
        "colab": {
          "base_uri": "https://localhost:8080/"
        },
        "outputId": "09e70cb9-5307-40a7-85f2-875a42c5eaf6"
      },
      "execution_count": 25,
      "outputs": [
        {
          "output_type": "stream",
          "name": "stdout",
          "text": [
            "+----------+--------+\n",
            "|     brand|max(mpg)|\n",
            "+----------+--------+\n",
            "|       amc|    27.4|\n",
            "|      audi|    36.4|\n",
            "|       bmw|    26.0|\n",
            "|     buick|    30.0|\n",
            "|  cadillac|    23.0|\n",
            "|     capri|    25.0|\n",
            "| chevrolet|    34.0|\n",
            "|  chrysler|    26.0|\n",
            "|    datsun|    40.8|\n",
            "|     dodge|    36.0|\n",
            "|      fiat|    37.3|\n",
            "|      ford|    36.1|\n",
            "| harvester|     9.0|\n",
            "|     honda|    44.6|\n",
            "|     mazda|    46.6|\n",
            "|  mercedes|    30.0|\n",
            "|   mercury|    36.0|\n",
            "|    nissan|    36.0|\n",
            "|oldsmobile|    38.0|\n",
            "|      opel|    28.0|\n",
            "|   peugeot|    30.0|\n",
            "|  plymouth|    39.0|\n",
            "|   pontiac|    33.5|\n",
            "|   renault|    36.0|\n",
            "|      saab|    25.0|\n",
            "|    subaru|    33.8|\n",
            "|    toyota|    39.1|\n",
            "|   triumph|    35.0|\n",
            "|volkswagen|    44.3|\n",
            "|     volvo|    30.7|\n",
            "+----------+--------+\n",
            "\n"
          ]
        }
      ]
    },
    {
      "cell_type": "markdown",
      "source": [
        "### Create any 2 great Visualizations from dataset (should be different from the one taught in Class)."
      ],
      "metadata": {
        "id": "u7zkiaIjTAkB"
      }
    },
    {
      "cell_type": "code",
      "source": [
        "#Visualization_1\n",
        "import matplotlib.pyplot as plt\n",
        "\n",
        "df1=df.select('model_year', 'displacement','horsepower','acceleration','cylinders').orderBy('model_year').groupBy('model_year').max()\n",
        "\n",
        "pdf1=df1.toPandas()\n",
        "\n",
        "x=pdf1['model_year'].tolist()\n",
        "y1=pdf1[\"max(displacement)\"].tolist()\n",
        "y2=pdf1[\"max(horsepower)\"].tolist()\n",
        "y3=pdf1[\"max(acceleration)\"].tolist()\n",
        "y4=pdf1[\"max(cylinders)\"].tolist()\n",
        "\n",
        "plt.figure(figsize=(15, 5))\n",
        "plt.xlabel('Year',fontsize=12)\n",
        "plt.ylabel('Horsepower',fontsize=12)\n",
        "plt.title(\"Horsepower per Model Year\",fontsize=15)\n",
        "\n",
        "\n",
        "plt.bar(x, y2  )\n",
        "\n",
        "plt.legend()\n",
        "plt.show()"
      ],
      "metadata": {
        "colab": {
          "base_uri": "https://localhost:8080/",
          "height": 372
        },
        "id": "JiIUd4OW2vUM",
        "outputId": "5db0dadc-2751-4516-cf24-507cef8a497d"
      },
      "execution_count": 52,
      "outputs": [
        {
          "output_type": "stream",
          "name": "stderr",
          "text": [
            "WARNING:matplotlib.legend:No handles with labels found to put in legend.\n"
          ]
        },
        {
          "output_type": "display_data",
          "data": {
            "text/plain": [
              "<Figure size 1080x360 with 1 Axes>"
            ],
            "image/png": "[encoded data removed]"
          },
          "metadata": {
            "needs_background": "light"
          }
        }
      ]
    },
    {
      "cell_type": "code",
      "source": [
        "dfplot=df.select('mpg', 'brand').orderBy('brand').groupBy('brand').max()\n",
        "\n",
        "dfplot1=df.select('cylinders','brand').orderBy('brand').groupBy('brand').min()\n",
        "\n",
        "pdf1=dfplot.toPandas()\n",
        "\n",
        "pdf2=dfplot1.toPandas()\n",
        "\n",
        "x=pdf1['brand'].tolist()\n",
        "y2=pdf2[\"min(cylinders)\"].tolist()\n",
        "\n",
        "plt.figure(figsize=(30, 5))\n",
        "plt.xlabel('Car Brands',fontsize=12)\n",
        "plt.ylabel('Cylinders',fontsize=12)\n",
        "plt.title(\"No of Cylinders by Car Brand\",fontsize=18)\n",
        "\n",
        "plt.plot(x,y2,color='blue',label='Miles per Gallon')\n",
        "\n",
        "plt.legend()\n",
        "plt.show()\n"
      ],
      "metadata": {
        "id": "k0pv9zbRDh-b",
        "colab": {
          "base_uri": "https://localhost:8080/",
          "height": 297
        },
        "outputId": "0142ef11-267c-4744-e868-a628f04f20c4"
      },
      "execution_count": 62,
      "outputs": [
        {
          "output_type": "display_data",
          "data": {
            "text/plain": [
              "<Figure size 2160x360 with 1 Axes>"
            ],
            "image/png": "[encoded data removed]"
          },
          "metadata": {
            "needs_background": "light"
          }
        }
      ]
    }
  ]
}